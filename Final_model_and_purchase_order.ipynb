{
  "cells": [
    {
      "cell_type": "code",
      "execution_count": 1,
      "metadata": {
        "id": "Ogyp8vs92I3u"
      },
      "outputs": [],
      "source": [
        "import pandas as pd\n",
        "import numpy as np\n",
        "from statsmodels.tsa.arima.model import ARIMA\n",
        "from statsmodels.tsa.statespace.sarimax import SARIMAX\n",
        "from sklearn.preprocessing import LabelEncoder"
      ]
    },
    {
      "cell_type": "code",
      "execution_count": 2,
      "metadata": {
        "id": "TG_GKYpFQnfF"
      },
      "outputs": [],
      "source": [
        "# ignore warnings\n",
        "import warnings\n",
        "warnings.filterwarnings('ignore')"
      ]
    },
    {
      "cell_type": "code",
      "execution_count": 3,
      "metadata": {
        "id": "jn8JLQsf3XRj"
      },
      "outputs": [],
      "source": [
        "pizza_df = pd.read_csv('pizza_sales.csv')\n",
        "ingred_df = pd.read_csv('Pizza_ingredients.csv')"
      ]
    },
    {
      "cell_type": "code",
      "execution_count": 4,
      "metadata": {
        "id": "fIxRMuDC3baZ"
      },
      "outputs": [],
      "source": [
        "pizza_df.dropna(inplace=True)"
      ]
    },
    {
      "cell_type": "code",
      "execution_count": 5,
      "metadata": {
        "id": "krTeF4CV3qgA"
      },
      "outputs": [],
      "source": [
        "def parse_dates(date):\n",
        "  for fmt in ('%d-%m-%Y', '%d/%m/%Y'):\n",
        "    try:\n",
        "      return pd.to_datetime(date, format=fmt)\n",
        "    except ValueError:\n",
        "      pass\n",
        "  raise ValueError(f'no valid date format found for {date}')"
      ]
    },
    {
      "cell_type": "code",
      "execution_count": 6,
      "metadata": {
        "id": "ELPqcdyS3xFg"
      },
      "outputs": [],
      "source": [
        "pizza_df['order_date'] = pizza_df['order_date'].apply(parse_dates)"
      ]
    },
    {
      "cell_type": "code",
      "execution_count": 7,
      "metadata": {
        "id": "WXe7TLpr7gk9"
      },
      "outputs": [],
      "source": [
        "pizza_df = pizza_df[['order_date', 'pizza_name', 'quantity']]"
      ]
    },
    {
      "cell_type": "code",
      "execution_count": 8,
      "metadata": {
        "id": "y_D47Mj_18ll"
      },
      "outputs": [],
      "source": [
        "# pizza_df['pizza_name'].unique()"
      ]
    },
    {
      "cell_type": "code",
      "execution_count": 9,
      "metadata": {
        "id": "qEhWcx8A8JkM"
      },
      "outputs": [],
      "source": [
        "sales_summary = pizza_df.groupby(['order_date', 'pizza_name']).sum().reset_index()"
      ]
    },
    {
      "cell_type": "code",
      "execution_count": 10,
      "metadata": {
        "colab": {
          "base_uri": "https://localhost:8080/",
          "height": 206
        },
        "id": "R0hRW0gT9EK0",
        "outputId": "4e5b7342-078f-4988-8fe6-4ea5a548cbae"
      },
      "outputs": [
        {
          "data": {
            "text/html": [
              "<div>\n",
              "<style scoped>\n",
              "    .dataframe tbody tr th:only-of-type {\n",
              "        vertical-align: middle;\n",
              "    }\n",
              "\n",
              "    .dataframe tbody tr th {\n",
              "        vertical-align: top;\n",
              "    }\n",
              "\n",
              "    .dataframe thead th {\n",
              "        text-align: right;\n",
              "    }\n",
              "</style>\n",
              "<table border=\"1\" class=\"dataframe\">\n",
              "  <thead>\n",
              "    <tr style=\"text-align: right;\">\n",
              "      <th></th>\n",
              "      <th>order_date</th>\n",
              "      <th>pizza_name</th>\n",
              "      <th>quantity</th>\n",
              "    </tr>\n",
              "  </thead>\n",
              "  <tbody>\n",
              "    <tr>\n",
              "      <th>0</th>\n",
              "      <td>2015-01-01</td>\n",
              "      <td>The Barbecue Chicken Pizza</td>\n",
              "      <td>11</td>\n",
              "    </tr>\n",
              "    <tr>\n",
              "      <th>1</th>\n",
              "      <td>2015-01-01</td>\n",
              "      <td>The Big Meat Pizza</td>\n",
              "      <td>5</td>\n",
              "    </tr>\n",
              "    <tr>\n",
              "      <th>2</th>\n",
              "      <td>2015-01-01</td>\n",
              "      <td>The Calabrese Pizza</td>\n",
              "      <td>1</td>\n",
              "    </tr>\n",
              "    <tr>\n",
              "      <th>3</th>\n",
              "      <td>2015-01-01</td>\n",
              "      <td>The California Chicken Pizza</td>\n",
              "      <td>4</td>\n",
              "    </tr>\n",
              "    <tr>\n",
              "      <th>4</th>\n",
              "      <td>2015-01-01</td>\n",
              "      <td>The Chicken Alfredo Pizza</td>\n",
              "      <td>2</td>\n",
              "    </tr>\n",
              "  </tbody>\n",
              "</table>\n",
              "</div>"
            ],
            "text/plain": [
              "  order_date                    pizza_name  quantity\n",
              "0 2015-01-01    The Barbecue Chicken Pizza        11\n",
              "1 2015-01-01            The Big Meat Pizza         5\n",
              "2 2015-01-01           The Calabrese Pizza         1\n",
              "3 2015-01-01  The California Chicken Pizza         4\n",
              "4 2015-01-01     The Chicken Alfredo Pizza         2"
            ]
          },
          "execution_count": 10,
          "metadata": {},
          "output_type": "execute_result"
        }
      ],
      "source": [
        "sales_summary.head()"
      ]
    },
    {
      "cell_type": "code",
      "execution_count": 11,
      "metadata": {
        "id": "8tT0gpCoO4Kt"
      },
      "outputs": [],
      "source": [
        "# reshape data for time series modeling\n",
        "sales_pivot = sales_summary.pivot(index='order_date', columns='pizza_name', values='quantity').fillna(0)"
      ]
    },
    {
      "cell_type": "code",
      "execution_count": 12,
      "metadata": {
        "id": "TvMZr67AO4IF"
      },
      "outputs": [],
      "source": [
        "arima_models = {}\n",
        "\n",
        "for pizza_name in sales_pivot.columns:\n",
        "  try:\n",
        "    model = ARIMA(sales_pivot[pizza_name], order=(1, 1, 0))\n",
        "    model_fit = model.fit()\n",
        "    arima_models[pizza_name] = model_fit\n",
        "  except:\n",
        "    print(f'ARIMA model for {pizza_name} failed to fit')"
      ]
    },
    {
      "cell_type": "code",
      "execution_count": 13,
      "metadata": {
        "id": "RDT5I4psQ00j"
      },
      "outputs": [],
      "source": [
        "# Generate predictions for one week\n",
        "prediction_days = 7\n",
        "predictions_arima = {}\n",
        "\n",
        "for pizza_name, model in arima_models.items():\n",
        "  predictions_arima[pizza_name] = model.predict(start=len(sales_pivot), end=len(sales_pivot) + prediction_days - 1)"
      ]
    },
    {
      "cell_type": "code",
      "execution_count": 14,
      "metadata": {
        "id": "__PDrp4gR0O8"
      },
      "outputs": [],
      "source": [
        "predictions_df = pd.DataFrame(predictions_arima)"
      ]
    },
    {
      "cell_type": "code",
      "execution_count": 15,
      "metadata": {
        "id": "9UZ-mTbpTwyH"
      },
      "outputs": [],
      "source": [
        "predictions_df.index = pd.date_range(start=sales_pivot.index[-1], periods=prediction_days, freq='D')"
      ]
    },
    {
      "cell_type": "code",
      "execution_count": 16,
      "metadata": {
        "id": "w54qIepLYG6r"
      },
      "outputs": [],
      "source": [
        "ingredients_df = ingred_df[['pizza_name', 'pizza_ingredients', 'Items_Qty_In_Grams']]"
      ]
    },
    {
      "cell_type": "code",
      "execution_count": 17,
      "metadata": {
        "id": "4zoDMZctZwn0"
      },
      "outputs": [],
      "source": [
        "# change column name to items_qty\n",
        "ingredients_df.rename(columns={'Items_Qty_In_Grams': 'items_qty'}, inplace=True)"
      ]
    },
    {
      "cell_type": "code",
      "execution_count": 18,
      "metadata": {
        "colab": {
          "base_uri": "https://localhost:8080/",
          "height": 509
        },
        "id": "Mbb1LIXNYY40",
        "outputId": "c0033ccd-ae42-40ee-8802-c4c1136e9b2e"
      },
      "outputs": [
        {
          "data": {
            "text/html": [
              "<div>\n",
              "<style scoped>\n",
              "    .dataframe tbody tr th:only-of-type {\n",
              "        vertical-align: middle;\n",
              "    }\n",
              "\n",
              "    .dataframe tbody tr th {\n",
              "        vertical-align: top;\n",
              "    }\n",
              "\n",
              "    .dataframe thead th {\n",
              "        text-align: right;\n",
              "    }\n",
              "</style>\n",
              "<table border=\"1\" class=\"dataframe\">\n",
              "  <thead>\n",
              "    <tr style=\"text-align: right;\">\n",
              "      <th></th>\n",
              "      <th>The Barbecue Chicken Pizza</th>\n",
              "      <th>The Big Meat Pizza</th>\n",
              "      <th>The Brie Carre Pizza</th>\n",
              "      <th>The Calabrese Pizza</th>\n",
              "      <th>The California Chicken Pizza</th>\n",
              "      <th>The Chicken Alfredo Pizza</th>\n",
              "      <th>The Chicken Pesto Pizza</th>\n",
              "      <th>The Classic Deluxe Pizza</th>\n",
              "      <th>The Five Cheese Pizza</th>\n",
              "      <th>The Four Cheese Pizza</th>\n",
              "      <th>...</th>\n",
              "      <th>The Prosciutto and Arugula Pizza</th>\n",
              "      <th>The Sicilian Pizza</th>\n",
              "      <th>The Soppressata Pizza</th>\n",
              "      <th>The Southwest Chicken Pizza</th>\n",
              "      <th>The Spicy Italian Pizza</th>\n",
              "      <th>The Spinach Pesto Pizza</th>\n",
              "      <th>The Spinach Supreme Pizza</th>\n",
              "      <th>The Spinach and Feta Pizza</th>\n",
              "      <th>The Thai Chicken Pizza</th>\n",
              "      <th>The Vegetables + Vegetables Pizza</th>\n",
              "    </tr>\n",
              "  </thead>\n",
              "  <tbody>\n",
              "    <tr>\n",
              "      <th>2015-12-31</th>\n",
              "      <td>7.949231</td>\n",
              "      <td>4.420315</td>\n",
              "      <td>0.868806</td>\n",
              "      <td>1.368239</td>\n",
              "      <td>7.0</td>\n",
              "      <td>2.515974</td>\n",
              "      <td>2.139860</td>\n",
              "      <td>6.884102</td>\n",
              "      <td>3.032327</td>\n",
              "      <td>6.974960</td>\n",
              "      <td>...</td>\n",
              "      <td>3.594000</td>\n",
              "      <td>2.583928</td>\n",
              "      <td>2.060907</td>\n",
              "      <td>5.917019</td>\n",
              "      <td>5.844288</td>\n",
              "      <td>3.542421</td>\n",
              "      <td>2.0</td>\n",
              "      <td>3.173030</td>\n",
              "      <td>3.0</td>\n",
              "      <td>7.773728</td>\n",
              "    </tr>\n",
              "    <tr>\n",
              "      <th>2016-01-01</th>\n",
              "      <td>9.000644</td>\n",
              "      <td>5.252117</td>\n",
              "      <td>1.508606</td>\n",
              "      <td>2.255787</td>\n",
              "      <td>7.0</td>\n",
              "      <td>3.250085</td>\n",
              "      <td>3.004890</td>\n",
              "      <td>8.502239</td>\n",
              "      <td>4.000261</td>\n",
              "      <td>8.000157</td>\n",
              "      <td>...</td>\n",
              "      <td>4.252945</td>\n",
              "      <td>3.751409</td>\n",
              "      <td>2.501855</td>\n",
              "      <td>5.496557</td>\n",
              "      <td>7.266934</td>\n",
              "      <td>4.250600</td>\n",
              "      <td>2.0</td>\n",
              "      <td>4.007485</td>\n",
              "      <td>3.0</td>\n",
              "      <td>8.764985</td>\n",
              "    </tr>\n",
              "    <tr>\n",
              "      <th>2016-01-02</th>\n",
              "      <td>8.461593</td>\n",
              "      <td>4.814122</td>\n",
              "      <td>1.146737</td>\n",
              "      <td>1.773032</td>\n",
              "      <td>7.0</td>\n",
              "      <td>2.886938</td>\n",
              "      <td>2.602621</td>\n",
              "      <td>7.661914</td>\n",
              "      <td>3.524117</td>\n",
              "      <td>7.481141</td>\n",
              "      <td>...</td>\n",
              "      <td>3.944120</td>\n",
              "      <td>3.187265</td>\n",
              "      <td>2.294809</td>\n",
              "      <td>5.689343</td>\n",
              "      <td>6.625582</td>\n",
              "      <td>3.906524</td>\n",
              "      <td>2.0</td>\n",
              "      <td>3.626354</td>\n",
              "      <td>3.0</td>\n",
              "      <td>8.323624</td>\n",
              "    </tr>\n",
              "    <tr>\n",
              "      <th>2016-01-03</th>\n",
              "      <td>8.737960</td>\n",
              "      <td>5.044753</td>\n",
              "      <td>1.351409</td>\n",
              "      <td>2.035612</td>\n",
              "      <td>7.0</td>\n",
              "      <td>3.066578</td>\n",
              "      <td>2.789690</td>\n",
              "      <td>8.098308</td>\n",
              "      <td>3.758341</td>\n",
              "      <td>7.743898</td>\n",
              "      <td>...</td>\n",
              "      <td>4.088856</td>\n",
              "      <td>3.459867</td>\n",
              "      <td>2.392027</td>\n",
              "      <td>5.600949</td>\n",
              "      <td>6.914714</td>\n",
              "      <td>4.073697</td>\n",
              "      <td>2.0</td>\n",
              "      <td>3.800433</td>\n",
              "      <td>3.0</td>\n",
              "      <td>8.520142</td>\n",
              "    </tr>\n",
              "    <tr>\n",
              "      <th>2016-01-04</th>\n",
              "      <td>8.596269</td>\n",
              "      <td>4.923311</td>\n",
              "      <td>1.235647</td>\n",
              "      <td>1.892789</td>\n",
              "      <td>7.0</td>\n",
              "      <td>2.977715</td>\n",
              "      <td>2.702696</td>\n",
              "      <td>7.871682</td>\n",
              "      <td>3.643122</td>\n",
              "      <td>7.610875</td>\n",
              "      <td>...</td>\n",
              "      <td>4.021023</td>\n",
              "      <td>3.328142</td>\n",
              "      <td>2.346379</td>\n",
              "      <td>5.641478</td>\n",
              "      <td>6.784369</td>\n",
              "      <td>3.992474</td>\n",
              "      <td>2.0</td>\n",
              "      <td>3.720923</td>\n",
              "      <td>3.0</td>\n",
              "      <td>8.432641</td>\n",
              "    </tr>\n",
              "    <tr>\n",
              "      <th>2016-01-05</th>\n",
              "      <td>8.668913</td>\n",
              "      <td>4.987258</td>\n",
              "      <td>1.301122</td>\n",
              "      <td>1.970474</td>\n",
              "      <td>7.0</td>\n",
              "      <td>3.021673</td>\n",
              "      <td>2.743152</td>\n",
              "      <td>7.989373</td>\n",
              "      <td>3.699800</td>\n",
              "      <td>7.678219</td>\n",
              "      <td>...</td>\n",
              "      <td>4.052814</td>\n",
              "      <td>3.391794</td>\n",
              "      <td>2.367813</td>\n",
              "      <td>5.622895</td>\n",
              "      <td>6.843130</td>\n",
              "      <td>4.031937</td>\n",
              "      <td>2.0</td>\n",
              "      <td>3.757239</td>\n",
              "      <td>3.0</td>\n",
              "      <td>8.471601</td>\n",
              "    </tr>\n",
              "    <tr>\n",
              "      <th>2016-01-06</th>\n",
              "      <td>8.631669</td>\n",
              "      <td>4.953586</td>\n",
              "      <td>1.264089</td>\n",
              "      <td>1.928219</td>\n",
              "      <td>7.0</td>\n",
              "      <td>2.999928</td>\n",
              "      <td>2.724338</td>\n",
              "      <td>7.928254</td>\n",
              "      <td>3.671919</td>\n",
              "      <td>7.644125</td>\n",
              "      <td>...</td>\n",
              "      <td>4.037915</td>\n",
              "      <td>3.361036</td>\n",
              "      <td>2.357748</td>\n",
              "      <td>5.631416</td>\n",
              "      <td>6.816640</td>\n",
              "      <td>4.012764</td>\n",
              "      <td>2.0</td>\n",
              "      <td>3.740652</td>\n",
              "      <td>3.0</td>\n",
              "      <td>8.454254</td>\n",
              "    </tr>\n",
              "  </tbody>\n",
              "</table>\n",
              "<p>7 rows × 32 columns</p>\n",
              "</div>"
            ],
            "text/plain": [
              "            The Barbecue Chicken Pizza  The Big Meat Pizza  \\\n",
              "2015-12-31                    7.949231            4.420315   \n",
              "2016-01-01                    9.000644            5.252117   \n",
              "2016-01-02                    8.461593            4.814122   \n",
              "2016-01-03                    8.737960            5.044753   \n",
              "2016-01-04                    8.596269            4.923311   \n",
              "2016-01-05                    8.668913            4.987258   \n",
              "2016-01-06                    8.631669            4.953586   \n",
              "\n",
              "            The Brie Carre Pizza  The Calabrese Pizza  \\\n",
              "2015-12-31              0.868806             1.368239   \n",
              "2016-01-01              1.508606             2.255787   \n",
              "2016-01-02              1.146737             1.773032   \n",
              "2016-01-03              1.351409             2.035612   \n",
              "2016-01-04              1.235647             1.892789   \n",
              "2016-01-05              1.301122             1.970474   \n",
              "2016-01-06              1.264089             1.928219   \n",
              "\n",
              "            The California Chicken Pizza  The Chicken Alfredo Pizza  \\\n",
              "2015-12-31                           7.0                   2.515974   \n",
              "2016-01-01                           7.0                   3.250085   \n",
              "2016-01-02                           7.0                   2.886938   \n",
              "2016-01-03                           7.0                   3.066578   \n",
              "2016-01-04                           7.0                   2.977715   \n",
              "2016-01-05                           7.0                   3.021673   \n",
              "2016-01-06                           7.0                   2.999928   \n",
              "\n",
              "            The Chicken Pesto Pizza  The Classic Deluxe Pizza  \\\n",
              "2015-12-31                 2.139860                  6.884102   \n",
              "2016-01-01                 3.004890                  8.502239   \n",
              "2016-01-02                 2.602621                  7.661914   \n",
              "2016-01-03                 2.789690                  8.098308   \n",
              "2016-01-04                 2.702696                  7.871682   \n",
              "2016-01-05                 2.743152                  7.989373   \n",
              "2016-01-06                 2.724338                  7.928254   \n",
              "\n",
              "            The Five Cheese Pizza  The Four Cheese Pizza  ...  \\\n",
              "2015-12-31               3.032327               6.974960  ...   \n",
              "2016-01-01               4.000261               8.000157  ...   \n",
              "2016-01-02               3.524117               7.481141  ...   \n",
              "2016-01-03               3.758341               7.743898  ...   \n",
              "2016-01-04               3.643122               7.610875  ...   \n",
              "2016-01-05               3.699800               7.678219  ...   \n",
              "2016-01-06               3.671919               7.644125  ...   \n",
              "\n",
              "            The Prosciutto and Arugula Pizza  The Sicilian Pizza  \\\n",
              "2015-12-31                          3.594000            2.583928   \n",
              "2016-01-01                          4.252945            3.751409   \n",
              "2016-01-02                          3.944120            3.187265   \n",
              "2016-01-03                          4.088856            3.459867   \n",
              "2016-01-04                          4.021023            3.328142   \n",
              "2016-01-05                          4.052814            3.391794   \n",
              "2016-01-06                          4.037915            3.361036   \n",
              "\n",
              "            The Soppressata Pizza  The Southwest Chicken Pizza  \\\n",
              "2015-12-31               2.060907                     5.917019   \n",
              "2016-01-01               2.501855                     5.496557   \n",
              "2016-01-02               2.294809                     5.689343   \n",
              "2016-01-03               2.392027                     5.600949   \n",
              "2016-01-04               2.346379                     5.641478   \n",
              "2016-01-05               2.367813                     5.622895   \n",
              "2016-01-06               2.357748                     5.631416   \n",
              "\n",
              "            The Spicy Italian Pizza  The Spinach Pesto Pizza  \\\n",
              "2015-12-31                 5.844288                 3.542421   \n",
              "2016-01-01                 7.266934                 4.250600   \n",
              "2016-01-02                 6.625582                 3.906524   \n",
              "2016-01-03                 6.914714                 4.073697   \n",
              "2016-01-04                 6.784369                 3.992474   \n",
              "2016-01-05                 6.843130                 4.031937   \n",
              "2016-01-06                 6.816640                 4.012764   \n",
              "\n",
              "            The Spinach Supreme Pizza  The Spinach and Feta Pizza  \\\n",
              "2015-12-31                        2.0                    3.173030   \n",
              "2016-01-01                        2.0                    4.007485   \n",
              "2016-01-02                        2.0                    3.626354   \n",
              "2016-01-03                        2.0                    3.800433   \n",
              "2016-01-04                        2.0                    3.720923   \n",
              "2016-01-05                        2.0                    3.757239   \n",
              "2016-01-06                        2.0                    3.740652   \n",
              "\n",
              "            The Thai Chicken Pizza  The Vegetables + Vegetables Pizza  \n",
              "2015-12-31                     3.0                           7.773728  \n",
              "2016-01-01                     3.0                           8.764985  \n",
              "2016-01-02                     3.0                           8.323624  \n",
              "2016-01-03                     3.0                           8.520142  \n",
              "2016-01-04                     3.0                           8.432641  \n",
              "2016-01-05                     3.0                           8.471601  \n",
              "2016-01-06                     3.0                           8.454254  \n",
              "\n",
              "[7 rows x 32 columns]"
            ]
          },
          "execution_count": 18,
          "metadata": {},
          "output_type": "execute_result"
        }
      ],
      "source": [
        "predictions_df"
      ]
    },
    {
      "cell_type": "code",
      "execution_count": 19,
      "metadata": {
        "colab": {
          "base_uri": "https://localhost:8080/",
          "height": 206
        },
        "id": "0R1KHokaO4Fe",
        "outputId": "e1a572ce-f4e3-4243-956e-10630396ced4"
      },
      "outputs": [
        {
          "data": {
            "text/html": [
              "<div>\n",
              "<style scoped>\n",
              "    .dataframe tbody tr th:only-of-type {\n",
              "        vertical-align: middle;\n",
              "    }\n",
              "\n",
              "    .dataframe tbody tr th {\n",
              "        vertical-align: top;\n",
              "    }\n",
              "\n",
              "    .dataframe thead th {\n",
              "        text-align: right;\n",
              "    }\n",
              "</style>\n",
              "<table border=\"1\" class=\"dataframe\">\n",
              "  <thead>\n",
              "    <tr style=\"text-align: right;\">\n",
              "      <th></th>\n",
              "      <th>pizza_name</th>\n",
              "      <th>pizza_ingredients</th>\n",
              "      <th>items_qty</th>\n",
              "    </tr>\n",
              "  </thead>\n",
              "  <tbody>\n",
              "    <tr>\n",
              "      <th>0</th>\n",
              "      <td>The Barbecue Chicken Pizza</td>\n",
              "      <td>Barbecued Chicken</td>\n",
              "      <td>40.0</td>\n",
              "    </tr>\n",
              "    <tr>\n",
              "      <th>1</th>\n",
              "      <td>The Barbecue Chicken Pizza</td>\n",
              "      <td>Red Peppers</td>\n",
              "      <td>15.0</td>\n",
              "    </tr>\n",
              "    <tr>\n",
              "      <th>2</th>\n",
              "      <td>The Barbecue Chicken Pizza</td>\n",
              "      <td>Green Peppers</td>\n",
              "      <td>20.0</td>\n",
              "    </tr>\n",
              "    <tr>\n",
              "      <th>3</th>\n",
              "      <td>The Barbecue Chicken Pizza</td>\n",
              "      <td>Tomatoes</td>\n",
              "      <td>30.0</td>\n",
              "    </tr>\n",
              "    <tr>\n",
              "      <th>4</th>\n",
              "      <td>The Barbecue Chicken Pizza</td>\n",
              "      <td>Red Onions</td>\n",
              "      <td>60.0</td>\n",
              "    </tr>\n",
              "  </tbody>\n",
              "</table>\n",
              "</div>"
            ],
            "text/plain": [
              "                   pizza_name  pizza_ingredients  items_qty\n",
              "0  The Barbecue Chicken Pizza  Barbecued Chicken       40.0\n",
              "1  The Barbecue Chicken Pizza        Red Peppers       15.0\n",
              "2  The Barbecue Chicken Pizza      Green Peppers       20.0\n",
              "3  The Barbecue Chicken Pizza           Tomatoes       30.0\n",
              "4  The Barbecue Chicken Pizza         Red Onions       60.0"
            ]
          },
          "execution_count": 19,
          "metadata": {},
          "output_type": "execute_result"
        }
      ],
      "source": [
        "ingredients_df.head()"
      ]
    },
    {
      "cell_type": "code",
      "execution_count": 20,
      "metadata": {
        "id": "NbfOe-Uyh0Ob"
      },
      "outputs": [],
      "source": [
        "\n",
        "# Create a dictionary to store the ingredient quantities\n",
        "ingredient_quantities = {}\n",
        "\n",
        "# Iterate through each pizza in the predictions\n",
        "for pizza_name in predictions_df.columns:\n",
        "  # Get the predicted quantity for the pizza\n",
        "  predicted_quantity = predictions_df[pizza_name].sum()\n",
        "\n",
        "  # Get the ingredients for the pizza\n",
        "  pizza_ingredients = ingredients_df[ingredients_df['pizza_name'] == pizza_name]\n",
        "\n",
        "  # Iterate through each ingredient for the pizza\n",
        "  for index, row in pizza_ingredients.iterrows():\n",
        "    ingredient = row['pizza_ingredients']\n",
        "    ingredient_qty = row['items_qty']\n",
        "\n",
        "    # Calculate the required quantity of the ingredient\n",
        "    required_quantity = predicted_quantity * ingredient_qty\n",
        "\n",
        "    # Add the required quantity to the dictionary\n",
        "    if ingredient not in ingredient_quantities:\n",
        "      ingredient_quantities[ingredient] = 0\n",
        "    ingredient_quantities[ingredient] += required_quantity\n",
        "\n",
        "\n"
      ]
    },
    {
      "cell_type": "code",
      "execution_count": 21,
      "metadata": {
        "colab": {
          "base_uri": "https://localhost:8080/"
        },
        "id": "YPEGTDLDiu_T",
        "outputId": "f31ab99a-4ce2-4c8e-a3bc-fba22e1031a6"
      },
      "outputs": [],
      "source": [
        "# Create a DataFrame from the ingredient quantities\n",
        "ingredient_requirements_df = pd.DataFrame.from_dict(ingredient_quantities, orient='index', columns=['required_quantity'])\n",
        "\n"
      ]
    },
    {
      "cell_type": "code",
      "execution_count": 22,
      "metadata": {
        "colab": {
          "base_uri": "https://localhost:8080/",
          "height": 424
        },
        "id": "rWOj8XeBjEVS",
        "outputId": "cc93257d-09c6-4e89-d1b8-3f1552839c01"
      },
      "outputs": [
        {
          "data": {
            "text/html": [
              "<div>\n",
              "<style scoped>\n",
              "    .dataframe tbody tr th:only-of-type {\n",
              "        vertical-align: middle;\n",
              "    }\n",
              "\n",
              "    .dataframe tbody tr th {\n",
              "        vertical-align: top;\n",
              "    }\n",
              "\n",
              "    .dataframe thead th {\n",
              "        text-align: right;\n",
              "    }\n",
              "</style>\n",
              "<table border=\"1\" class=\"dataframe\">\n",
              "  <thead>\n",
              "    <tr style=\"text-align: right;\">\n",
              "      <th></th>\n",
              "      <th>required_quantity</th>\n",
              "    </tr>\n",
              "  </thead>\n",
              "  <tbody>\n",
              "    <tr>\n",
              "      <th>Barbecued Chicken</th>\n",
              "      <td>5404.165210</td>\n",
              "    </tr>\n",
              "    <tr>\n",
              "      <th>Red Peppers</th>\n",
              "      <td>11341.551999</td>\n",
              "    </tr>\n",
              "    <tr>\n",
              "      <th>Green Peppers</th>\n",
              "      <td>8030.393877</td>\n",
              "    </tr>\n",
              "    <tr>\n",
              "      <th>Tomatoes</th>\n",
              "      <td>34984.718336</td>\n",
              "    </tr>\n",
              "    <tr>\n",
              "      <th>Red Onions</th>\n",
              "      <td>54797.556508</td>\n",
              "    </tr>\n",
              "    <tr>\n",
              "      <th>...</th>\n",
              "      <td>...</td>\n",
              "    </tr>\n",
              "    <tr>\n",
              "      <th>Luganega Sausage</th>\n",
              "      <td>2767.612913</td>\n",
              "    </tr>\n",
              "    <tr>\n",
              "      <th>Onions</th>\n",
              "      <td>1383.806456</td>\n",
              "    </tr>\n",
              "    <tr>\n",
              "      <th>Soppressata Salami</th>\n",
              "      <td>4896.461505</td>\n",
              "    </tr>\n",
              "    <tr>\n",
              "      <th>Peperoncini verdi</th>\n",
              "      <td>1412.869703</td>\n",
              "    </tr>\n",
              "    <tr>\n",
              "      <th>Thai Sweet Chilli Sauce</th>\n",
              "      <td>1260.000000</td>\n",
              "    </tr>\n",
              "  </tbody>\n",
              "</table>\n",
              "<p>64 rows × 1 columns</p>\n",
              "</div>"
            ],
            "text/plain": [
              "                         required_quantity\n",
              "Barbecued Chicken              5404.165210\n",
              "Red Peppers                   11341.551999\n",
              "Green Peppers                  8030.393877\n",
              "Tomatoes                      34984.718336\n",
              "Red Onions                    54797.556508\n",
              "...                                    ...\n",
              "Luganega Sausage               2767.612913\n",
              "Onions                         1383.806456\n",
              "Soppressata Salami             4896.461505\n",
              "Peperoncini verdi              1412.869703\n",
              "Thai Sweet Chilli Sauce        1260.000000\n",
              "\n",
              "[64 rows x 1 columns]"
            ]
          },
          "execution_count": 22,
          "metadata": {},
          "output_type": "execute_result"
        }
      ],
      "source": [
        "# Print the ingredient requirements\n",
        "ingredient_requirements_df"
      ]
    },
    {
      "cell_type": "code",
      "execution_count": 23,
      "metadata": {
        "colab": {
          "base_uri": "https://localhost:8080/"
        },
        "id": "a-R8ZQ0mjd41",
        "outputId": "dbffdffa-24d4-42b0-f0a3-3813b36c82e2"
      },
      "outputs": [
        {
          "name": "stdout",
          "output_type": "stream",
          "text": [
            "Purchase Order:\n",
            "----------------\n",
            "                                quantity   unit\n",
            "Barbecued Chicken            5404.165210  grams\n",
            "Red Peppers                 11341.551999  grams\n",
            "Green Peppers                8030.393877  grams\n",
            "Tomatoes                    34984.718336  grams\n",
            "Red Onions                  54797.556508  grams\n",
            "Barbecue Sauce               1801.388403  grams\n",
            "Bacon                       19992.004778  grams\n",
            "Pepperoni                   24192.916449  grams\n",
            "Italian Sausage               343.954622  grams\n",
            "Chorizo Sausage              1719.773109  grams\n",
            "Brie Carre Cheese             260.292444  grams\n",
            "Prosciutto                    260.292444  grams\n",
            "Caramelized Onions                   NaN  grams\n",
            "Pears                          86.764148  grams\n",
            "Thyme                          43.382074  grams\n",
            "Garlic                      17939.075390  grams\n",
            "?duja Salami                 1586.898271  grams\n",
            "Pancetta                     2380.347406  grams\n",
            "Friggitello Peppers           396.724568  grams\n",
            "Chicken                     44707.738824  grams\n",
            "Artichokes                   8194.256192  grams\n",
            "Spinach                     21045.422035  grams\n",
            "Jalapeno Peppers             3770.816452  grams\n",
            "Fontina Cheese               3919.292301  grams\n",
            "Gouda Cheese                 2940.000000  grams\n",
            "Mushrooms                   26131.595772  grams\n",
            "Asiago Cheese                4170.001706  grams\n",
            "Alfredo Sauce                 932.350127  grams\n",
            "Pesto Sauce                  3897.174210  grams\n",
            "Mozzarella Cheese           10227.712830  grams\n",
            "Provolone Cheese              759.896595  grams\n",
            "Smoked Gouda Cheese           759.896595  grams\n",
            "Romano Cheese                 759.896595  grams\n",
            "Blue Cheese                   759.896595  grams\n",
            "Ricotta Cheese               3985.003098  grams\n",
            "Gorgonzola Piccante Cheese   3188.002478  grams\n",
            "Parmigiano Reggiano Cheese   7970.006196  grams\n",
            "Kalamata Olives              2242.598080  grams\n",
            "Feta Cheese                  7530.556884  grams\n",
            "Beef Chuck Roast             7980.000000  grams\n",
            "Green Olives                 3263.109239  grams\n",
            "Sliced Ham                           NaN  grams\n",
            "Pineapple                    4641.998311  grams\n",
            "Capocollo                   50316.976160  grams\n",
            "Goat Cheese                 11504.280161  grams\n",
            "Oregano                      1463.200337  grams\n",
            "Calabrese Salami            11121.934742  grams\n",
            "Eggplant                     2212.228830  grams\n",
            "Zucchini                     4630.572933  grams\n",
            "Sun-dried Tomatoes           1606.910550  grams\n",
            "Plum Tomatoes                3090.392321  grams\n",
            "Cilantro                     2300.816452  grams\n",
            "Corn                        15338.776347  grams\n",
            "Chipotle Sauce               4601.632904  grams\n",
            "Anchovies                    2943.868853  grams\n",
            "Genoa Salami                 6260.604609  grams\n",
            "Prosciutto di San Daniele    1959.417098  grams\n",
            "Arugula                       839.750185  grams\n",
            "Coarse Sicilian Salami       5535.225825  grams\n",
            "Luganega Sausage             2767.612913  grams\n",
            "Onions                       1383.806456  grams\n",
            "Soppressata Salami           4896.461505  grams\n",
            "Peperoncini verdi            1412.869703  grams\n",
            "Thai Sweet Chilli Sauce      1260.000000  grams\n"
          ]
        }
      ],
      "source": [
        "\n",
        "\n",
        "# Create a purchase order DataFrame\n",
        "purchase_order_df = ingredient_requirements_df.copy()\n",
        "\n",
        "# Add a column for the unit of measure (assuming all ingredients are in grams)\n",
        "purchase_order_df['unit'] = 'grams'\n",
        "\n",
        "# Rename the columns for better readability\n",
        "purchase_order_df = purchase_order_df.rename(columns={'required_quantity': 'quantity'})\n",
        "\n",
        "# Add a header to the purchase order\n",
        "print('Purchase Order:')\n",
        "print('----------------')\n",
        "\n",
        "# Print the purchase order table\n",
        "print(purchase_order_df.to_string())\n"
      ]
    }
  ],
  "metadata": {
    "colab": {
      "provenance": []
    },
    "kernelspec": {
      "display_name": "Python 3",
      "name": "python3"
    },
    "language_info": {
      "codemirror_mode": {
        "name": "ipython",
        "version": 3
      },
      "file_extension": ".py",
      "mimetype": "text/x-python",
      "name": "python",
      "nbconvert_exporter": "python",
      "pygments_lexer": "ipython3",
      "version": "3.12.4"
    }
  },
  "nbformat": 4,
  "nbformat_minor": 0
}
